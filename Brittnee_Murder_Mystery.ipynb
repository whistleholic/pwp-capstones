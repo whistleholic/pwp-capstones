{
 "cells": [
  {
   "cell_type": "markdown",
   "metadata": {},
   "source": [
    "# Preamble: A Brand New Jay\n",
    "\n",
    "After an eventful season on season 8 of *A Brand New Jay*, the 3 remaining contestants were invited to Jay Stacksby's private island for the last three episodes. When the day of filming the finale came Mr. Stacksby was found with one of his Professional Series 8-inch Chef Knives plunged through his heart! After the initial investigation highlighted that the film crew all lived in a separate house on the other side of the island, it was concluded that only the three contestants were near enough to Stacksby in order to commit a crime. At the scene of the crime, a letter was left. Here are the contents of that letter:\n",
    "\n",
    "> You may call me heartless, a killer, a monster, a murderer, but I'm still NOTHING compared to the villian that Jay was. This whole contest was a sham, an elaborate plot to shame the contestants and feed Jay's massive, massive ego. SURE you think you know him! You've seen him smiling for the cameras, laughing, joking, telling stories, waving his money around like a prop but off camera he was a sinister beast, a cruel cruel taskmaster, he treated all of us like slaves, like cattle, like animals! Do you remember Lindsay, she was the first to go, he called her such horrible things that she cried all night, keeping up all up, crying, crying, and more crying, he broke her with his words. I miss my former cast members, all of them very much. And we had to live with him, live in his home, live in his power, deal with his crazy demands. AND FOR WHAT! DID YOU KNOW THAT THE PRIZE ISN'T REAL? He never intended to marry one of us! The carrot on the stick was gone, all that was left was stick, he told us last night that we were all a terrible terrible disappointment and none of us would ever amount to anything, and that regardless of who won the contest he would never speak to any of us again! It's definitely the things like this you can feel in your gut how wrong he is! Well I showed him, he got what he deserved all right, I showed him, I showed him the person I am! I wasn't going to be pushed around any longer, and I wasn't going to let him go on pretending that he was some saint when all he was was a sick sick twisted man who deserved every bit of what he got. The fans need to know, Jay Stacksby is a vile amalgamation of all things evil and bad and the world is a better place without him.\n",
    "\n",
    "Pretty sinister stuff! Luckily, in addition to this bold-faced admission, we have the introduction letters of the three contestants. Maybe there is a way to use this information to determine who the author of this murder letter is?\n",
    "\n",
    "Myrtle Beech's introduction letter:\n",
    "> Salutations. My name? Myrtle. Myrtle Beech. I am a woman of simple tastes. I enjoy reading, thinking, and doing my taxes. I entered this competition because I want a serious relationship. I want a commitment. The last man I dated was too whimsical. He wanted to go on dates that had no plan. No end goal. Sometimes we would just end up wandering the streets after dinner. He called it a \"walk\". A \"walk\" with no destination. Can you imagine? I like every action I take to have a measurable effect. When I see a movie, I like to walk away with insights that I did not have before. When I take a bike ride, there better be a worthy destination at the end of the bike path. Jay seems frivolous at times. This worries me. However, it is my staunch belief that one does not make and keep money without having a modicum of discipline. As such, I am hopeful. I will now list three things I cannot live without. Water. Emery boards. Dogs. Thank you for the opportunity to introduce myself. I look forward to the competition. \n",
    "\n",
    "Lily Trebuchet's introduction letter:\n",
    "> Hi, I'm Lily Trebuchet from East Egg, Long Island. I love cats, hiking, and curling up under a warm blanket with a book. So they gave this little questionnaire to use for our bios so lets get started. What are some of my least favorite household chores? Dishes, oh yes it's definitely the dishes, I just hate doing them, don't you? Who is your favorite actor and why? Hmm, that's a hard one, but I think recently I'll have to go with Michael B. Jordan, every bit of that man is handsome, HANDSOME! Do you remember seeing him shirtless? I can't believe what he does for the cameras! Okay okay next question, what is your perfect date? Well it starts with a nice dinner at a delicious but small restaurant, you know like one of those places where the owner is in the back and comes out to talk to you and ask you how your meal was. My favorite form of art? Another hard one, but I think I'll have to go with music, music you can feel in your whole body and it is electrifying and best of all, you can dance to it! Okay final question, let's see, What are three things you cannot live without? Well first off, my beautiful, beautiful cat Jerry, he is my heart and spirit animal. Second is pasta, definitely pasta, and the third I think is my family, I love all of them very much and they support me in everything I do. I know Jay Stacksby is a handsome man and all of us want to be the first to walk down the aisle with him, but I think he might truly be the one for me. Okay that's it for the bio, I hope you have fun watching the show! \n",
    "\n",
    "Gregg T Fishy's introduction letter:\n",
    "\n",
    "> A good day to you all, I am Gregg T Fishy, of the Fishy Enterprise fortune. I am 37 years young. An adventurous spirit and I've never lost my sense of childlike wonder. I do love to be in the backyard gardening and I have the most extraordinary time when I'm fishing. Fishing for what, you might ask? Why, fishing for compliments of course! I have a stunning pair of radiant blue eyes. They will pierce the soul of anyone who dare gaze upon my countenance. I quite enjoy going on long jaunts through garden paths and short walks through greenhouses. I hope that Jay will be as absolutely interesting as he appears on the television. I find that he has some of the most curious tastes in style and humor. When I'm out and about I quite enjoy hearing tales that instill in my heart of hearts the fascination that beguiles my every day life. Every fiber of my being scintillates and vascillates with extreme pleasure during one of these charming anecdotes and significantly pleases my beautiful personage. I cannot wait to enjoy being on A Brand New Jay. It certainly seems like a grand time to explore life and love."
   ]
  },
  {
   "cell_type": "markdown",
   "metadata": {},
   "source": [
    "## Saving The Different Examples as Variables\n",
    "\n",
    "First let's create variables to hold the text data in! Save the muder note as a string in a variable called `murder_note`. Save Lily Trebuchet's introduction into `lily_trebuchet_intro`. Save Myrtle Beech's introduction into `myrtle_beech_intro`. Save Gregg T Fishy's introduction into `gregg_t_fishy_intro`."
   ]
  },
  {
   "cell_type": "code",
   "execution_count": 17,
   "metadata": {},
   "outputs": [],
   "source": [
    "murder_note = \"\"\"You may call me heartless, a killer, a monster, a murderer, but I'm still NOTHING compared to the villian that Jay was. This whole contest was a sham, an elaborate plot to shame the contestants and feed Jay's massive, massive ego. SURE you think you know him! You've seen him smiling for the cameras, laughing, joking, telling stories, waving his money around like a prop but off camera he was a sinister beast, a cruel cruel taskmaster, he treated all of us like slaves, like cattle, like animals! Do you remember Lindsay, she was the first to go, he called her such horrible things that she cried all night, keeping up all up, crying, crying, and more crying, he broke her with his words. I miss my former cast members, all of them very much. And we had to live with him, live in his home, live in his power, deal with his crazy demands. AND FOR WHAT! DID YOU KNOW THAT THE PRIZE ISN'T REAL? He never intended to marry one of us! The carrot on the stick was gone, all that was left was stick, he told us last night that we were all a terrible terrible disappointment and none of us would ever amount to anything, and that regardless of who won the contest he would never speak to any of us again! It's definitely the things like this you can feel in your gut how wrong he is! Well I showed him, he got what he deserved all right, I showed him, I showed him the person I am! I wasn't going to be pushed around any longer, and I wasn't going to let him go on pretending that he was some saint when all he was was a sick sick twisted man who deserved every bit of what he got. The fans need to know, Jay Stacksby is a vile amalgamation of all things evil and bad and the world is a better place without him.\"\"\""
   ]
  },
  {
   "cell_type": "code",
   "execution_count": 18,
   "metadata": {},
   "outputs": [],
   "source": [
    "lily_trebuchet_intro = \"\"\"Hi, I'm Lily Trebuchet from East Egg, Long Island. I love cats, hiking, and curling up under a warm blanket with a book. So they gave this little questionnaire to use for our bios so lets get started. What are some of my least favorite household chores? Dishes, oh yes it's definitely the dishes, I just hate doing them, don't you? Who is your favorite actor and why? Hmm, that's a hard one, but I think recently I'll have to go with Michael B. Jordan, every bit of that man is handsome, HANDSOME! Do you remember seeing him shirtless? I can't believe what he does for the cameras! Okay okay next question, what is your perfect date? Well it starts with a nice dinner at a delicious but small restaurant, you know like one of those places where the owner is in the back and comes out to talk to you and ask you how your meal was. My favorite form of art? Another hard one, but I think I'll have to go with music, music you can feel in your whole body and it is electrifying and best of all, you can dance to it! Okay final question, let's see, What are three things you cannot live without? Well first off, my beautiful, beautiful cat Jerry, he is my heart and spirit animal. Second is pasta, definitely pasta, and the third I think is my family, I love all of them very much and they support me in everything I do. I know Jay Stacksby is a handsome man and all of us want to be the first to walk down the aisle with him, but I think he might truly be the one for me. Okay that's it for the bio, I hope you have fun watching the show!\"\"\""
   ]
  },
  {
   "cell_type": "code",
   "execution_count": 19,
   "metadata": {},
   "outputs": [],
   "source": [
    "myrtle_beech_intro = \"\"\"Salutations. My name? Myrtle. Myrtle Beech. I am a woman of simple tastes. I enjoy reading, thinking, and doing my taxes. I entered this competition because I want a serious relationship. I want a commitment. The last man I dated was too whimsical. He wanted to go on dates that had no plan. No end goal. Sometimes we would just end up wandering the streets after dinner. He called it a \\\"walk\". A \"walk\" with no destination. Can you imagine? I like every action I take to have a measurable effect. When I see a movie, I like to walk away with insights that I did not have before. When I take a bike ride, there better be a worthy destination at the end of the bike path. Jay seems frivolous at times. This worries me. However, it is my staunch belief that one does not make and keep money without having a modicum of discipline. As such, I am hopeful. I will now list three things I cannot live without. Water. Emery boards. Dogs. Thank you for the opportunity to introduce myself. I look forward to the competition.\"\"\""
   ]
  },
  {
   "cell_type": "code",
   "execution_count": 20,
   "metadata": {},
   "outputs": [],
   "source": [
    "gregg_t_fishy_intro = \"\"\"A good day to you all, I am Gregg T Fishy, of the Fishy Enterprise fortune. I am 37 years young. An adventurous spirit and I've never lost my sense of childlike wonder. I do love to be in the backyard gardening and I have the most extraordinary time when I'm fishing. Fishing for what, you might ask? Why, fishing for compliments of course! I have a stunning pair of radiant blue eyes. They will pierce the soul of anyone who dare gaze upon my countenance. I quite enjoy going on long jaunts through garden paths and short walks through greenhouses. I hope that Jay will be as absolutely interesting as he appears on the television. I find that he has some of the most curious tastes in style and humor. When I'm out and about I quite enjoy hearing tales that instill in my heart of hearts the fascination that beguiles my every day life. Every fiber of my being scintillates and vascillates with extreme pleasure during one of these charming anecdotes and significantly pleases my beautiful personage. I cannot wait to enjoy being on A Brand New Jay. It certainly seems like a grand time to explore life and love.\"\"\""
   ]
  },
  {
   "cell_type": "markdown",
   "metadata": {},
   "source": [
    "## The First Indicator: Sentence Length\n",
    "\n",
    "Perhaps some meaningful data can first be gleaned from these text examples if we measure how long the average sentence length is. Different authors have different patterns of written speech, so this could be very useful in tracking down the killer.\n",
    "\n",
    "Write a function `get_average_sentence_length` that takes some `text` as an argument. This function should return the average number of words in a sentence in the text.\n",
    "\n",
    "Hint (highlight this hint in order to reveal it): \n",
    "<font color=\"white\">Use your knowledge of _string methods_ to create a list of all of the sentences in a text, called **sentences_in_text**. \n",
    "Further break up each **sentences_in_text** into a list of words and save the _length_ of that list of words to a new list that contains all the sentence lengths, called **sentence_lengths**. Take the average of all of the sentence lengths by adding them all together and dividing by the number of sentences (which should be the same as the length of the **sentence_lengths**).\n",
    "\n",
    "Remember sentences can end with more than one kind of punctuation, you might find it easiest to use **.replace()** so you only have to split on one punctuation mark. Remember **.replace()** doesn't modify the string itself, it returns a new string!</font>"
   ]
  },
  {
   "cell_type": "code",
   "execution_count": 21,
   "metadata": {},
   "outputs": [
    {
     "name": "stdout",
     "output_type": "stream",
     "text": [
      "22\n",
      "6\n",
      "15\n",
      "13\n"
     ]
    }
   ],
   "source": [
    "def get_average_sentence_length(text):\n",
    "    #Variables\n",
    "    number_of_words = 0\n",
    "    number_of_sentences = 0\n",
    "    avg_sentence_lengths = 0\n",
    "    words = []\n",
    "    \n",
    "    #Replace (!,?,\",\",\" \" and then split at \". \"), Create list of all sentences in text\n",
    "    sentences_in_text = text.replace(\"?\",\".\").replace(\"!\",\".\").replace(\"  \",\" \")\n",
    "    sentences_in_text = sentences_in_text.split(\". \")\n",
    "    \n",
    "    #Split at each word, \" \", in the sentences\n",
    "    for word in sentences_in_text:\n",
    "        words.append(word.split(\" \"))\n",
    "        \n",
    "    #Sentence length in words\n",
    "    for word in words:\n",
    "        number_of_words = number_of_words + len(word)\n",
    "        \n",
    "    #Average number of words per sentence\n",
    "    number_of_sentences = len(words)\n",
    "    avg_sentence_lengths = int(number_of_words / number_of_sentences)\n",
    "    return avg_sentence_lengths\n",
    "\n",
    "#Testing each note\n",
    "print(get_average_sentence_length(murder_note))\n",
    "print(get_average_sentence_length(myrtle_beech_intro))\n",
    "print(get_average_sentence_length(lily_trebuchet_intro))\n",
    "print(get_average_sentence_length(gregg_t_fishy_intro))"
   ]
  },
  {
   "cell_type": "markdown",
   "metadata": {},
   "source": [
    "## Creating The Definition for Our Model\n",
    "\n",
    "Now that we have a metric we want to save and data that is coupled with that metric, it might be time to create our data type. Let's define a class called `TextSample` with a constructor. The constructor should take two arguments: `text` and `author`. `text` should be saved as `self.raw_text`. Call `get_average_sentence_length` with the raw text and save it to `self.average_sentence_length`. You should save the author of the text as `self.author`.\n",
    "\n",
    "Additionally, define a string representation for the model. If you print a `TextSample` it should render:\n",
    " - The author's name\n",
    " - The average sentence length\n",
    " \n",
    "This will be your main class for the problem at hand. All later instruction to update `TextSample` should be done in the code block below. After updating `TextSample`, click on the `Cell` option in the Jupyter Notebook main menu above, then click `Run All` to rerun the cells from top to bottom. If you need to restart your Jupyter Notebook either run the cells below first or move the `TextSample` class definition & instantiation cells to the bottom."
   ]
  },
  {
   "cell_type": "code",
   "execution_count": 22,
   "metadata": {},
   "outputs": [],
   "source": [
    "#Create class to start saving data coupled with specific metrics\n",
    "class TextSample():\n",
    "#Set constructors\n",
    "    def __init__(self, text, author):\n",
    "        self.raw_text = text\n",
    "        self.average_sentence_length = get_average_sentence_length(self.raw_text)\n",
    "        self.author = author\n",
    "        self.prepared_text = prepare_text(text)\n",
    "        self.word_count_frequency = build_frequency_table(prepare_text(text))\n",
    "        self.n_gram_frequency = build_frequency_table(bigram_creator(prepare_text(text)))\n",
    "#String representation    \n",
    "    def __str__(self):\n",
    "        return \"The Author's name is: {} \\nAnd the average sentence length is: {}.\\n\".format(self.author, self.average_sentence_length)"
   ]
  },
  {
   "cell_type": "markdown",
   "metadata": {},
   "source": [
    "### Creating our TextSample Instances\n",
    "\n",
    "Now create a `TextSample` object for each of the samples of text that we have.\n",
    " - `murderer_sample` for the murderer's note.\n",
    " - `lily_sample` for Lily Trebuchet's note.\n",
    " - `myrtle_sample` for Myrtle Beech's note.\n",
    " - `gregg_sample` for Gregg T Fishy's note.\n",
    " \n",
    "Print out each one after instantiating them."
   ]
  },
  {
   "cell_type": "code",
   "execution_count": 23,
   "metadata": {},
   "outputs": [
    {
     "name": "stdout",
     "output_type": "stream",
     "text": [
      "The Author's name is: murderer \n",
      "And the average sentence length is: 22.\n",
      "\n",
      "The Author's name is: Lily Trebuchet \n",
      "And the average sentence length is: 15.\n",
      "\n",
      "The Author's name is: Myrtle Beech \n",
      "And the average sentence length is: 6.\n",
      "\n",
      "The Author's name is: Gregg T Fishy \n",
      "And the average sentence length is: 13.\n",
      "\n"
     ]
    }
   ],
   "source": [
    "#Creating objects from TextSample class\n",
    "murderer_sample = TextSample(murder_note, \"murderer\")\n",
    "lily_sample = TextSample(lily_trebuchet_intro, \"Lily Trebuchet\")\n",
    "myrtle_sample = TextSample(myrtle_beech_intro, \"Myrtle Beech\")\n",
    "gregg_sample = TextSample(gregg_t_fishy_intro, \"Gregg T Fishy\")\n",
    "\n",
    "#Testing each of the objects\n",
    "print(murderer_sample)\n",
    "print(lily_sample)\n",
    "print(myrtle_sample)\n",
    "print(gregg_sample)"
   ]
  },
  {
   "cell_type": "markdown",
   "metadata": {},
   "source": [
    "## Cleaning Our Data\n",
    "\n",
    "We want to compare the word choice and usage between the samples, but sentences make our text data fairly messy. In order to analyze the different messages fairly, we'll need to remove all the punctuation and uppercase letters from the samples.\n",
    "\n",
    "Create a function called `prepare_text` that takes a single parameter `text`, makes the text entirely lowercase, removes all the punctuation and returns a list of the words in the text in order.\n",
    "\n",
    "For example: `\"Where did you go, friend? We nearly saw each other.\"` would become `['where', 'did', 'you', 'go', 'friend', 'we', 'nearly', 'saw', 'each', 'other']`."
   ]
  },
  {
   "cell_type": "code",
   "execution_count": 24,
   "metadata": {},
   "outputs": [
    {
     "name": "stdout",
     "output_type": "stream",
     "text": [
      "['salutations', 'my', 'name', 'myrtle', 'myrtle', 'beech', 'i', 'am', 'a', 'woman', 'of', 'simple', 'tastes', 'i', 'enjoy', 'reading', 'thinking', 'and', 'doing', 'my', 'taxes', 'i', 'entered', 'this', 'competition', 'because', 'i', 'want', 'a', 'serious', 'relationship', 'i', 'want', 'a', 'commitment', 'the', 'last', 'man', 'i', 'dated', 'was', 'too', 'whimsical', 'he', 'wanted', 'to', 'go', 'on', 'dates', 'that', 'had', 'no', 'plan', 'no', 'end', 'goal', 'sometimes', 'we', 'would', 'just', 'end', 'up', 'wandering', 'the', 'streets', 'after', 'dinner', 'he', 'called', 'it', 'a', '\"walk\"', 'a', '\"walk\"', 'with', 'no', 'destination', 'can', 'you', 'imagine', 'i', 'like', 'every', 'action', 'i', 'take', 'to', 'have', 'a', 'measurable', 'effect', 'when', 'i', 'see', 'a', 'movie', 'i', 'like', 'to', 'walk', 'away', 'with', 'insights', 'that', 'i', 'did', 'not', 'have', 'before', 'when', 'i', 'take', 'a', 'bike', 'ride', 'there', 'better', 'be', 'a', 'worthy', 'destination', 'at', 'the', 'end', 'of', 'the', 'bike', 'path', 'jay', 'seems', 'frivolous', 'at', 'times', 'this', 'worries', 'me', 'however', 'it', 'is', 'my', 'staunch', 'belief', 'that', 'one', 'does', 'not', 'make', 'and', 'keep', 'money', 'without', 'having', 'a', 'modicum', 'of', 'discipline', 'as', 'such', 'i', 'am', 'hopeful', 'i', 'will', 'now', 'list', 'three', 'things', 'i', 'cannot', 'live', 'without', 'water', 'emery', 'boards', 'dogs', 'thank', 'you', 'for', 'the', 'opportunity', 'to', 'introduce', 'myself', 'i', 'look', 'forward', 'to', 'the', 'competition']\n"
     ]
    }
   ],
   "source": [
    "#Cleaning up text to ensure it is lowercase, and organized appropriately for the word comparisons portion of exercise\n",
    "def prepare_text(text):\n",
    "    stripped_words = []\n",
    "    stripped_words = text.replace(\",\",\".\").replace(\"!\",\".\").replace(\".\",\"\").replace(\"?\",\"\").lower().split(\" \")\n",
    "    return stripped_words\n",
    "\n",
    "#Testing the object output\n",
    "print(prepare_text(myrtle_beech_intro))"
   ]
  },
  {
   "cell_type": "markdown",
   "metadata": {},
   "source": [
    "Update the constructor for `TextSample` to save the prepared text as `self.prepared_text`."
   ]
  },
  {
   "cell_type": "markdown",
   "metadata": {},
   "source": [
    "## Building A Frequency Table\n",
    "\n",
    "Now we want to see which words were most frequently used in each of the samples. Create a function called `build_frequency_table`. It takes in a list called `corpus` and creates a dictionary called `frequency_table`. For every element in `corpus` the value `frequency_table[element]` should be equal to the number of times that element appears in `corpus`. For example the input `['do', 'you', 'see', 'what', 'i', 'see']` would create the frequency table `{'what': 1, 'you': 1, 'see' 2, 'i': 1}`."
   ]
  },
  {
   "cell_type": "code",
   "execution_count": 25,
   "metadata": {},
   "outputs": [
    {
     "name": "stdout",
     "output_type": "stream",
     "text": [
      "{'a': 4, 'good': 1, 'day': 2, 'to': 4, 'you': 2, 'all': 1, 'i': 10, 'am': 2, 'gregg': 1, 't': 1, 'fishy': 2, 'of': 9, 'the': 7, 'enterprise': 1, 'fortune': 1, '37': 1, 'years': 1, 'young': 1, 'an': 1, 'adventurous': 1, 'spirit': 1, 'and': 8, \"i've\": 1, 'never': 1, 'lost': 1, 'my': 6, 'sense': 1, 'childlike': 1, 'wonder': 1, 'do': 1, 'love': 2, 'be': 2, 'in': 3, 'backyard': 1, 'gardening': 1, 'have': 2, 'most': 2, 'extraordinary': 1, 'time': 2, 'when': 2, \"i'm\": 2, 'fishing': 3, 'for': 2, 'what': 1, 'might': 1, 'ask': 1, 'why': 1, 'compliments': 1, 'course': 1, 'stunning': 1, 'pair': 1, 'radiant': 1, 'blue': 1, 'eyes': 1, 'they': 1, 'will': 2, 'pierce': 1, 'soul': 1, 'anyone': 1, 'who': 1, 'dare': 1, 'gaze': 1, 'upon': 1, 'countenance': 1, 'quite': 2, 'enjoy': 3, 'going': 1, 'on': 3, 'long': 1, 'jaunts': 1, 'through': 2, 'garden': 1, 'paths': 1, 'short': 1, 'walks': 1, 'greenhouses': 1, 'hope': 1, 'that': 4, 'jay': 2, 'as': 2, 'absolutely': 1, 'interesting': 1, 'he': 2, 'appears': 1, 'television': 1, 'find': 1, 'has': 1, 'some': 1, 'curious': 1, 'tastes': 1, 'style': 1, 'humor': 1, 'out': 1, 'about': 1, 'hearing': 1, 'tales': 1, 'instill': 1, 'heart': 1, 'hearts': 1, 'fascination': 1, 'beguiles': 1, 'every': 2, 'life': 2, 'fiber': 1, 'being': 2, 'scintillates': 1, 'vascillates': 1, 'with': 1, 'extreme': 1, 'pleasure': 1, 'during': 1, 'one': 1, 'these': 1, 'charming': 1, 'anecdotes': 1, 'significantly': 1, 'pleases': 1, 'beautiful': 1, 'personage': 1, 'cannot': 1, 'wait': 1, 'brand': 1, 'new': 1, 'it': 1, 'certainly': 1, 'seems': 1, 'like': 1, 'grand': 1, 'explore': 1}\n"
     ]
    }
   ],
   "source": [
    "#Creates dictionary to determine freqency of words in persons intro/murder note\n",
    "def build_frequency_table(corpus):\n",
    "    frequency_table = {}\n",
    "    counter = 0\n",
    "    fresh_words = []\n",
    "    total_count = []\n",
    "    \n",
    "#Loops text to add new words to fresh_words if not already there\n",
    "    for element in corpus:\n",
    "        if element not in fresh_words:\n",
    "            fresh_words.append(element)\n",
    "\n",
    "#Loops fresh_words, and within loops corpus, to add the occurences together in the counter. Counter reset after each word.\n",
    "    for element in fresh_words:\n",
    "        for elements in corpus:\n",
    "            if element == elements:\n",
    "                counter += 1\n",
    "        total_count.append(counter)\n",
    "        counter = 0\n",
    "\n",
    "#Create dictionary to organize data for smoother processing\n",
    "    frequency_table = dict(zip(fresh_words, total_count))\n",
    "    return frequency_table\n",
    "\n",
    "#Testing each note\n",
    "print(build_frequency_table(prepare_text(gregg_t_fishy_intro)))"
   ]
  },
  {
   "cell_type": "markdown",
   "metadata": {},
   "source": [
    "## The Second Indicator: Favorite Words\n",
    "\n",
    "Use `build_frequency_table` with the prepared text to create a frequency table that counts how frequently all the words in each text sample appears. Call these functions in the constructor for `TextSample` and assign the word frequency table to a value called `self.word_count_frequency`."
   ]
  },
  {
   "cell_type": "markdown",
   "metadata": {},
   "source": [
    "## The Third Indicator: N-Grams\n",
    "\n",
    "An <a href='https://en.wikipedia.org/wiki/N-gram' target=\"_blank\">n-gram</a> is a text analysis technique used for pattern recognition and applicable throughout lingusitics. We're going to use n-grams to find who uses similar word-pairs to the murderer, and we think it's going to make our evidence strong enough to conclusively find the killer.\n",
    "\n",
    "Create a function called `ngram_creator` that takes a parameter `text_list`, a treated in-order list of the words in a text sample. `ngram_creator` should return a list of all adjacent pairs of words, styled as strings with a space in the center.\n",
    "\n",
    "For instance, calling `ngram_creator` with the input `['what', 'in', 'the', 'world', 'is', 'going', 'on']`\n",
    "Should produce the output `['what in', 'in the', 'the world', 'world is', 'is going', 'going on']`.\n",
    "\n",
    "These are two-word n-grams."
   ]
  },
  {
   "cell_type": "code",
   "execution_count": 26,
   "metadata": {},
   "outputs": [
    {
     "data": {
      "text/plain": [
       "['a good',\n",
       " 'good day',\n",
       " 'day to',\n",
       " 'to you',\n",
       " 'you all',\n",
       " 'all i',\n",
       " 'i am',\n",
       " 'am gregg',\n",
       " 'gregg t',\n",
       " 't fishy',\n",
       " 'fishy of',\n",
       " 'of the',\n",
       " 'the fishy',\n",
       " 'fishy enterprise',\n",
       " 'enterprise fortune',\n",
       " 'fortune i',\n",
       " 'i am',\n",
       " 'am 37',\n",
       " '37 years',\n",
       " 'years young',\n",
       " 'young an',\n",
       " 'an adventurous',\n",
       " 'adventurous spirit',\n",
       " 'spirit and',\n",
       " \"and i've\",\n",
       " \"i've never\",\n",
       " 'never lost',\n",
       " 'lost my',\n",
       " 'my sense',\n",
       " 'sense of',\n",
       " 'of childlike',\n",
       " 'childlike wonder',\n",
       " 'wonder i',\n",
       " 'i do',\n",
       " 'do love',\n",
       " 'love to',\n",
       " 'to be',\n",
       " 'be in',\n",
       " 'in the',\n",
       " 'the backyard',\n",
       " 'backyard gardening',\n",
       " 'gardening and',\n",
       " 'and i',\n",
       " 'i have',\n",
       " 'have the',\n",
       " 'the most',\n",
       " 'most extraordinary',\n",
       " 'extraordinary time',\n",
       " 'time when',\n",
       " \"when i'm\",\n",
       " \"i'm fishing\",\n",
       " 'fishing fishing',\n",
       " 'fishing for',\n",
       " 'for what',\n",
       " 'what you',\n",
       " 'you might',\n",
       " 'might ask',\n",
       " 'ask why',\n",
       " 'why fishing',\n",
       " 'fishing for',\n",
       " 'for compliments',\n",
       " 'compliments of',\n",
       " 'of course',\n",
       " 'course i',\n",
       " 'i have',\n",
       " 'have a',\n",
       " 'a stunning',\n",
       " 'stunning pair',\n",
       " 'pair of',\n",
       " 'of radiant',\n",
       " 'radiant blue',\n",
       " 'blue eyes',\n",
       " 'eyes they',\n",
       " 'they will',\n",
       " 'will pierce',\n",
       " 'pierce the',\n",
       " 'the soul',\n",
       " 'soul of',\n",
       " 'of anyone',\n",
       " 'anyone who',\n",
       " 'who dare',\n",
       " 'dare gaze',\n",
       " 'gaze upon',\n",
       " 'upon my',\n",
       " 'my countenance',\n",
       " 'countenance i',\n",
       " 'i quite',\n",
       " 'quite enjoy',\n",
       " 'enjoy going',\n",
       " 'going on',\n",
       " 'on long',\n",
       " 'long jaunts',\n",
       " 'jaunts through',\n",
       " 'through garden',\n",
       " 'garden paths',\n",
       " 'paths and',\n",
       " 'and short',\n",
       " 'short walks',\n",
       " 'walks through',\n",
       " 'through greenhouses',\n",
       " 'greenhouses i',\n",
       " 'i hope',\n",
       " 'hope that',\n",
       " 'that jay',\n",
       " 'jay will',\n",
       " 'will be',\n",
       " 'be as',\n",
       " 'as absolutely',\n",
       " 'absolutely interesting',\n",
       " 'interesting as',\n",
       " 'as he',\n",
       " 'he appears',\n",
       " 'appears on',\n",
       " 'on the',\n",
       " 'the television',\n",
       " 'television i',\n",
       " 'i find',\n",
       " 'find that',\n",
       " 'that he',\n",
       " 'he has',\n",
       " 'has some',\n",
       " 'some of',\n",
       " 'of the',\n",
       " 'the most',\n",
       " 'most curious',\n",
       " 'curious tastes',\n",
       " 'tastes in',\n",
       " 'in style',\n",
       " 'style and',\n",
       " 'and humor',\n",
       " 'humor when',\n",
       " \"when i'm\",\n",
       " \"i'm out\",\n",
       " 'out and',\n",
       " 'and about',\n",
       " 'about i',\n",
       " 'i quite',\n",
       " 'quite enjoy',\n",
       " 'enjoy hearing',\n",
       " 'hearing tales',\n",
       " 'tales that',\n",
       " 'that instill',\n",
       " 'instill in',\n",
       " 'in my',\n",
       " 'my heart',\n",
       " 'heart of',\n",
       " 'of hearts',\n",
       " 'hearts the',\n",
       " 'the fascination',\n",
       " 'fascination that',\n",
       " 'that beguiles',\n",
       " 'beguiles my',\n",
       " 'my every',\n",
       " 'every day',\n",
       " 'day life',\n",
       " 'life every',\n",
       " 'every fiber',\n",
       " 'fiber of',\n",
       " 'of my',\n",
       " 'my being',\n",
       " 'being scintillates',\n",
       " 'scintillates and',\n",
       " 'and vascillates',\n",
       " 'vascillates with',\n",
       " 'with extreme',\n",
       " 'extreme pleasure',\n",
       " 'pleasure during',\n",
       " 'during one',\n",
       " 'one of',\n",
       " 'of these',\n",
       " 'these charming',\n",
       " 'charming anecdotes',\n",
       " 'anecdotes and',\n",
       " 'and significantly',\n",
       " 'significantly pleases',\n",
       " 'pleases my',\n",
       " 'my beautiful',\n",
       " 'beautiful personage',\n",
       " 'personage i',\n",
       " 'i cannot',\n",
       " 'cannot wait',\n",
       " 'wait to',\n",
       " 'to enjoy',\n",
       " 'enjoy being',\n",
       " 'being on',\n",
       " 'on a',\n",
       " 'a brand',\n",
       " 'brand new',\n",
       " 'new jay',\n",
       " 'jay it',\n",
       " 'it certainly',\n",
       " 'certainly seems',\n",
       " 'seems like',\n",
       " 'like a',\n",
       " 'a grand',\n",
       " 'grand time',\n",
       " 'time to',\n",
       " 'to explore',\n",
       " 'explore life',\n",
       " 'life and',\n",
       " 'and love']"
      ]
     },
     "execution_count": 26,
     "metadata": {},
     "output_type": "execute_result"
    }
   ],
   "source": [
    "#Creates new \"sentences\" with 2 words each by iterating through the prepared version of notes\n",
    "def bigram_creator(text_list):\n",
    "    bigram_list = []\n",
    "    for i in range(len(text_list)-1):\n",
    "        bigram_list.append((text_list[i] + \" \" + text_list[i+1]))\n",
    "    return bigram_list\n",
    "\n",
    "#Testing one note for good measure\n",
    "bigram_creator(prepare_text(gregg_t_fishy_intro))"
   ]
  },
  {
   "cell_type": "markdown",
   "metadata": {},
   "source": [
    "Use `ngram_creator` along with the prepared text to create a list of all the two-word ngrams in each `TextSample`. Use `build_frequency_table` to tabulate the frequency of each ngram. In the constructor for `TextSample` save this frequency table as `self.ngram_frequency`."
   ]
  },
  {
   "cell_type": "markdown",
   "metadata": {},
   "source": [
    "## Comparing Two Frequency Tables\n",
    "\n",
    "We want to know how similar two frequency tables are, let's write a function that computes the comparison between two frequency tables and scores them based on similarity.\n",
    "\n",
    "Write a function called `frequency_comparison` that takes two parameters, `table1` and `table2`. It should define two local variables, `appearances` and `mutual_appearances`. \n",
    "\n",
    "Iterate through `table1`'s keys and check if `table2` has the same key defined. If it is, compare the two values for the key -- the smaller value should get added to `mutual_appearances` and the larger should get added to `appearances`. If the key doesn't exist in `table2` the value for the key in `table1` should be added to `appearances`.\n",
    "\n",
    "Remember afterwards to iterate through all of `table2`'s keys that aren't in `table1` and add those to `appearances` as well.\n",
    "\n",
    "Return a frequency comparison score equal to the mutual appearances divided by the total appearances."
   ]
  },
  {
   "cell_type": "code",
   "execution_count": 27,
   "metadata": {},
   "outputs": [
    {
     "name": "stdout",
     "output_type": "stream",
     "text": [
      "0.16591928251121077\n",
      "0.23196881091617932\n",
      "0.1561822125813449\n"
     ]
    }
   ],
   "source": [
    "#Create comparison of two notes in frequency of words. Compare \"def build_frequency_table(corpus):\" dictionaries.\n",
    "def frequency_comparison(table1, table2):\n",
    "    appearances = 0\n",
    "    mutual_appearances = 0\n",
    "    for items in table1.keys():\n",
    "        if items in table2.keys():\n",
    "            if table1[items] <= table2[items]:\n",
    "                mutual_appearances += table1[items]\n",
    "                appearances += table2[items]\n",
    "            else:\n",
    "                mutual_appearances += table2[items]\n",
    "                appearances += table1[items]\n",
    "        else:\n",
    "            appearances += table1[items]           \n",
    "    for word in table2.keys():\n",
    "        if word not in table1.keys():\n",
    "            appearances += table2[word]\n",
    "    \n",
    "    return mutual_appearances / appearances\n",
    "\n",
    "#Testing tables against one another\n",
    "print(frequency_comparison(build_frequency_table(prepare_text(murder_note)),(build_frequency_table(prepare_text(myrtle_beech_intro)))))\n",
    "print(frequency_comparison(build_frequency_table(prepare_text(murder_note)),(build_frequency_table(prepare_text(lily_trebuchet_intro)))))\n",
    "print(frequency_comparison(build_frequency_table(prepare_text(murder_note)),(build_frequency_table(prepare_text(gregg_t_fishy_intro)))))"
   ]
  },
  {
   "cell_type": "markdown",
   "metadata": {},
   "source": [
    "## Comparing Average Sentence Length\n",
    "\n",
    "In order to calculate the change between the average sentence lengths of two `TextSamples` we're going to use the formula for the percent difference.\n",
    "\n",
    "Write a function called `percent_difference` that returns the percent difference as calculated from the following formula:\n",
    "\n",
    "$$\\frac{|\\ value1 - value2\\ |}{\\frac{value1 + value2}{2}}$$\n",
    "\n",
    "In the numerator is the absolute value (use `abs()`) of the two values subtracted from each other. In the denominator is the average of the two values (value1 + value2 divided by two)."
   ]
  },
  {
   "cell_type": "code",
   "execution_count": 28,
   "metadata": {},
   "outputs": [
    {
     "name": "stdout",
     "output_type": "stream",
     "text": [
      "1.1428571428571428\n",
      "0.3783783783783784\n",
      "0.5142857142857142\n"
     ]
    }
   ],
   "source": [
    "def percent_difference(value1, value2):\n",
    "    value = abs(value1 - value2) /((value1 + value2)/2)\n",
    "    return value\n",
    "\n",
    "print(percent_difference(get_average_sentence_length(murder_note), get_average_sentence_length(myrtle_beech_intro)))\n",
    "print(percent_difference(get_average_sentence_length(murder_note), get_average_sentence_length(lily_trebuchet_intro)))\n",
    "print(percent_difference(get_average_sentence_length(murder_note), get_average_sentence_length(gregg_t_fishy_intro)))"
   ]
  },
  {
   "cell_type": "markdown",
   "metadata": {},
   "source": [
    "## Scoring Similarity with All Three Indicators\n",
    "\n",
    "We want to figure out who did it, so let's use all three of the indicators we built to score text similarity. Define a function `find_text_similarity` that takes two `TextSample` arguments and returns a float between 0 and 1 where 0 means completely different and 1 means the same exact sample. You can evaluate the similarity by the following criteria:\n",
    "\n",
    "- Calculate the percent difference of their average sentence length using `percent_difference`. Save that into a variable called `sentence_length_difference`. Since we want to find how _similar_ the two passages are calculate the inverse of `sentence_length_difference` by using the formula `abs(1 - sentence_length_difference)`. Save that into a variable called `sentence_length_similarity`.\n",
    "- Calculate the difference between their word usage using `frequency_comparison` on both `TextSample`'s `word_count_frequency` attributes. Save that into a variable called `word_count_similarity`.\n",
    "- Calculate the difference between their two-word ngram using `frequency_comparison` on both `TextSample`'s `ngram_frequency` attributes. Save that into a variable called `ngram_similarity`.\n",
    "- Add all three similarities together and divide by 3."
   ]
  },
  {
   "cell_type": "code",
   "execution_count": 29,
   "metadata": {},
   "outputs": [
    {
     "name": "stdout",
     "output_type": "stream",
     "text": [
      "0.10683172512278453\n",
      "0.30354580413452426\n",
      "0.2197126258686585\n"
     ]
    }
   ],
   "source": [
    "#Create function to determine text similarity\n",
    "def find_text_similarity(text1, text2):\n",
    "    sentence_length_difference = percent_difference(get_average_sentence_length(text1), get_average_sentence_length(text2))\n",
    "    sentence_length_similarity = abs(1-sentence_length_difference)\n",
    "    word_count_similarity = frequency_comparison(build_frequency_table(prepare_text(text1)),build_frequency_table(prepare_text(text2)))\n",
    "    bigram_similarity = frequency_comparison(build_frequency_table(bigram_creator(prepare_text(text1))),build_frequency_table(bigram_creator(prepare_text(text2))))\n",
    "    \n",
    "    return (sentence_length_similarity + word_count_similarity + bigram_similarity)/3\n",
    "\n",
    "#Testing notes against one another\n",
    "print(find_text_similarity(murder_note, myrtle_beech_intro))\n",
    "print(find_text_similarity(murder_note, lily_trebuchet_intro))\n",
    "print(find_text_similarity(murder_note, gregg_t_fishy_intro))"
   ]
  },
  {
   "cell_type": "markdown",
   "metadata": {},
   "source": [
    "## Rendering the Results\n",
    "\n",
    "We want to print out the results in a way that we can read! For each contestant on _A Brand New Jay_ print out the following:\n",
    "\n",
    "- Their name\n",
    "- Their similarity score to the murder letter"
   ]
  },
  {
   "cell_type": "code",
   "execution_count": 30,
   "metadata": {
    "scrolled": false
   },
   "outputs": [
    {
     "name": "stdout",
     "output_type": "stream",
     "text": [
      "Author: Myrtle Beech \n",
      "Their similarity score to murder letter: 0.10683172512278453\n",
      "\n",
      "Author: Lily Trebuchet \n",
      "Their similarity score to murder letter: 0.30354580413452426\n",
      "\n",
      "Author: Gregg T. Fishy \n",
      "Their similarity score to murder letter: 0.2197126258686585\n"
     ]
    }
   ],
   "source": [
    "print(\"Author: Myrtle Beech \\nTheir similarity score to murder letter: {}\".format(find_text_similarity(myrtle_beech_intro, murder_note)))\n",
    "print(\"\\nAuthor: Lily Trebuchet \\nTheir similarity score to murder letter: {}\".format(find_text_similarity(lily_trebuchet_intro, murder_note)))\n",
    "print(\"\\nAuthor: Gregg T. Fishy \\nTheir similarity score to murder letter: {}\".format(find_text_similarity(gregg_t_fishy_intro, murder_note)))"
   ]
  },
  {
   "cell_type": "markdown",
   "metadata": {},
   "source": [
    "# Who Dunnit?\n",
    "\n",
    "In the cell below, print the name of the person who killed Jay Stacksby."
   ]
  },
  {
   "cell_type": "code",
   "execution_count": 43,
   "metadata": {},
   "outputs": [
    {
     "name": "stdout",
     "output_type": "stream",
     "text": [
      "Based on this code, the person who allegedly killed Jay Stacksby is: \n",
      "Lily Trebuchet\n"
     ]
    }
   ],
   "source": [
    "print(\"Based on this code, the person who allegedly killed Jay Stacksby is: \\nLily Trebuchet\")"
   ]
  }
 ],
 "metadata": {
  "kernelspec": {
   "display_name": "Python 3",
   "language": "python",
   "name": "python3"
  },
  "language_info": {
   "codemirror_mode": {
    "name": "ipython",
    "version": 3
   },
   "file_extension": ".py",
   "mimetype": "text/x-python",
   "name": "python",
   "nbconvert_exporter": "python",
   "pygments_lexer": "ipython3",
   "version": "3.7.3"
  }
 },
 "nbformat": 4,
 "nbformat_minor": 2
}
